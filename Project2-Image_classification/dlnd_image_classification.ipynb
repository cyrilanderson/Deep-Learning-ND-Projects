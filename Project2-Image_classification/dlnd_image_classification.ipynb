{
 "cells": [
  {
   "cell_type": "markdown",
   "metadata": {
    "collapsed": true,
    "deletable": true,
    "editable": true
   },
   "source": [
    "# Image Classification\n",
    "In this project, you'll classify images from the [CIFAR-10 dataset](https://www.cs.toronto.edu/~kriz/cifar.html).  The dataset consists of airplanes, dogs, cats, and other objects. You'll preprocess the images, then train a convolutional neural network on all the samples. The images need to be normalized and the labels need to be one-hot encoded.  You'll get to apply what you learned and build a convolutional, max pooling, dropout, and fully connected layers.  At the end, you'll get to see your neural network's predictions on the sample images.\n",
    "## Get the Data\n",
    "Run the following cell to download the [CIFAR-10 dataset for python](https://www.cs.toronto.edu/~kriz/cifar-10-python.tar.gz)."
   ]
  },
  {
   "cell_type": "code",
   "execution_count": 1,
   "metadata": {
    "collapsed": false,
    "deletable": true,
    "editable": true
   },
   "outputs": [
    {
     "name": "stdout",
     "output_type": "stream",
     "text": [
      "All files found!\n"
     ]
    }
   ],
   "source": [
    "\"\"\"\n",
    "DON'T MODIFY ANYTHING IN THIS CELL THAT IS BELOW THIS LINE\n",
    "\"\"\"\n",
    "from urllib.request import urlretrieve\n",
    "from os.path import isfile, isdir\n",
    "from tqdm import tqdm\n",
    "import problem_unittests as tests\n",
    "import tarfile\n",
    "\n",
    "cifar10_dataset_folder_path = 'cifar-10-batches-py'\n",
    "\n",
    "class DLProgress(tqdm):\n",
    "    last_block = 0\n",
    "\n",
    "    def hook(self, block_num=1, block_size=1, total_size=None):\n",
    "        self.total = total_size\n",
    "        self.update((block_num - self.last_block) * block_size)\n",
    "        self.last_block = block_num\n",
    "\n",
    "if not isfile('cifar-10-python.tar.gz'):\n",
    "    with DLProgress(unit='B', unit_scale=True, miniters=1, desc='CIFAR-10 Dataset') as pbar:\n",
    "        urlretrieve(\n",
    "            'https://www.cs.toronto.edu/~kriz/cifar-10-python.tar.gz',\n",
    "            'cifar-10-python.tar.gz',\n",
    "            pbar.hook)\n",
    "\n",
    "if not isdir(cifar10_dataset_folder_path):\n",
    "    with tarfile.open('cifar-10-python.tar.gz') as tar:\n",
    "        tar.extractall()\n",
    "        tar.close()\n",
    "\n",
    "\n",
    "tests.test_folder_path(cifar10_dataset_folder_path)"
   ]
  },
  {
   "cell_type": "markdown",
   "metadata": {
    "deletable": true,
    "editable": true
   },
   "source": [
    "## Explore the Data\n",
    "The dataset is broken into batches to prevent your machine from running out of memory.  The CIFAR-10 dataset consists of 5 batches, named `data_batch_1`, `data_batch_2`, etc.. Each batch contains the labels and images that are one of the following:\n",
    "* airplane\n",
    "* automobile\n",
    "* bird\n",
    "* cat\n",
    "* deer\n",
    "* dog\n",
    "* frog\n",
    "* horse\n",
    "* ship\n",
    "* truck\n",
    "\n",
    "Understanding a dataset is part of making predictions on the data.  Play around with the code cell below by changing the `batch_id` and `sample_id`. The `batch_id` is the id for a batch (1-5). The `sample_id` is the id for a image and label pair in the batch.\n",
    "\n",
    "Ask yourself \"What are all possible labels?\", \"What is the range of values for the image data?\", \"Are the labels in order or random?\".  Answers to questions like these will help you preprocess the data and end up with better predictions."
   ]
  },
  {
   "cell_type": "code",
   "execution_count": 2,
   "metadata": {
    "collapsed": false,
    "deletable": true,
    "editable": true
   },
   "outputs": [
    {
     "name": "stdout",
     "output_type": "stream",
     "text": [
      "\n",
      "Stats of batch 4:\n",
      "Samples: 10000\n",
      "Label Counts: {0: 1003, 1: 963, 2: 1041, 3: 976, 4: 1004, 5: 1021, 6: 1004, 7: 981, 8: 1024, 9: 983}\n",
      "First 20 Labels: [0, 6, 0, 2, 7, 2, 1, 2, 4, 1, 5, 6, 6, 3, 1, 3, 5, 5, 8, 1]\n",
      "\n",
      "Example of Image 5:\n",
      "Image - Min Value: 13 Max Value: 169\n",
      "Image - Shape: (32, 32, 3)\n",
      "Label - Label Id: 2 Name: bird\n"
     ]
    },
    {
     "data": {
      "image/png": "[encoded data removed]",
      "text/plain": [
       "<matplotlib.figure.Figure at 0x7f17887094a8>"
      ]
     },
     "metadata": {
      "image/png": {
       "height": 250,
       "width": 253
      }
     },
     "output_type": "display_data"
    }
   ],
   "source": [
    "%matplotlib inline\n",
    "%config InlineBackend.figure_format = 'retina'\n",
    "\n",
    "import helper\n",
    "import numpy as np\n",
    "\n",
    "# Explore the dataset\n",
    "batch_id = 4\n",
    "sample_id = 5\n",
    "helper.display_stats(cifar10_dataset_folder_path, batch_id, sample_id)"
   ]
  },
  {
   "cell_type": "markdown",
   "metadata": {
    "deletable": true,
    "editable": true
   },
   "source": [
    "## Implement Preprocess Functions\n",
    "### Normalize\n",
    "In the cell below, implement the `normalize` function to take in image data, `x`, and return it as a normalized Numpy array. The values should be in the range of 0 to 1, inclusive.  The return object should be the same shape as `x`."
   ]
  },
  {
   "cell_type": "code",
   "execution_count": 3,
   "metadata": {
    "collapsed": false,
    "deletable": true,
    "editable": true
   },
   "outputs": [
    {
     "name": "stdout",
     "output_type": "stream",
     "text": [
      "Tests Passed\n"
     ]
    }
   ],
   "source": [
    "def normalize(x):\n",
    "    \"\"\"\n",
    "    Normalize a list of sample image data in the range of 0 to 1\n",
    "    : x: List of image data.  The image shape is (32, 32, 3)\n",
    "    : return: Numpy array of normalize data\n",
    "    \"\"\"\n",
    "    return np.array((x)/255)\n",
    "\n",
    "\n",
    "\"\"\"\n",
    "DON'T MODIFY ANYTHING IN THIS CELL THAT IS BELOW THIS LINE\n",
    "\"\"\"\n",
    "tests.test_normalize(normalize)"
   ]
  },
  {
   "cell_type": "markdown",
   "metadata": {
    "deletable": true,
    "editable": true
   },
   "source": [
    "### One-hot encode\n",
    "Just like the previous code cell, you'll be implementing a function for preprocessing.  This time, you'll implement the `one_hot_encode` function. The input, `x`, are a list of labels.  Implement the function to return the list of labels as One-Hot encoded Numpy array.  The possible values for labels are 0 to 9. The one-hot encoding function should return the same encoding for each value between each call to `one_hot_encode`.  Make sure to save the map of encodings outside the function.\n",
    "\n",
    "Hint: Don't reinvent the wheel."
   ]
  },
  {
   "cell_type": "code",
   "execution_count": 4,
   "metadata": {
    "collapsed": false,
    "deletable": true,
    "editable": true
   },
   "outputs": [
    {
     "name": "stdout",
     "output_type": "stream",
     "text": [
      "Tests Passed\n"
     ]
    }
   ],
   "source": [
    "from sklearn import preprocessing\n",
    "\n",
    "def one_hot_encode(x):\n",
    "    \"\"\"\n",
    "    One hot encode a list of sample labels. Return a one-hot encoded vector for each label.\n",
    "    : x: List of sample Labels\n",
    "    : return: Numpy array of one-hot encoded labels\n",
    "    \"\"\"\n",
    "        \n",
    "    lb = preprocessing.LabelBinarizer()\n",
    "    lb.fit(list(range(10)))\n",
    "    results = lb.transform(x)\n",
    "\n",
    "        \n",
    "    return results\n",
    "\n",
    "\n",
    "\"\"\"\n",
    "DON'T MODIFY ANYTHING IN THIS CELL THAT IS BELOW THIS LINE\n",
    "\"\"\"\n",
    "tests.test_one_hot_encode(one_hot_encode)"
   ]
  },
  {
   "cell_type": "markdown",
   "metadata": {
    "deletable": true,
    "editable": true
   },
   "source": [
    "### Randomize Data\n",
    "As you saw from exploring the data above, the order of the samples are randomized.  It doesn't hurt to randomize it again, but you don't need to for this dataset."
   ]
  },
  {
   "cell_type": "markdown",
   "metadata": {
    "deletable": true,
    "editable": true
   },
   "source": [
    "## Preprocess all the data and save it\n",
    "Running the code cell below will preprocess all the CIFAR-10 data and save it to file. The code below also uses 10% of the training data for validation."
   ]
  },
  {
   "cell_type": "code",
   "execution_count": 21,
   "metadata": {
    "collapsed": false,
    "deletable": true,
    "editable": true
   },
   "outputs": [],
   "source": [
    "\"\"\"\n",
    "DON'T MODIFY ANYTHING IN THIS CELL\n",
    "\"\"\"\n",
    "# Preprocess Training, Validation, and Testing Data\n",
    "helper.preprocess_and_save_data(cifar10_dataset_folder_path, normalize, one_hot_encode)"
   ]
  },
  {
   "cell_type": "markdown",
   "metadata": {
    "deletable": true,
    "editable": true
   },
   "source": [
    "# Check Point\n",
    "This is your first checkpoint.  If you ever decide to come back to this notebook or have to restart the notebook, you can start from here.  The preprocessed data has been saved to disk."
   ]
  },
  {
   "cell_type": "code",
   "execution_count": 6,
   "metadata": {
    "collapsed": true,
    "deletable": true,
    "editable": true
   },
   "outputs": [],
   "source": [
    "\"\"\"\n",
    "DON'T MODIFY ANYTHING IN THIS CELL\n",
    "\"\"\"\n",
    "import pickle\n",
    "import problem_unittests as tests\n",
    "import helper\n",
    "\n",
    "# Load the Preprocessed Validation data\n",
    "valid_features, valid_labels = pickle.load(open('preprocess_validation.p', mode='rb'))"
   ]
  },
  {
   "cell_type": "markdown",
   "metadata": {
    "deletable": true,
    "editable": true
   },
   "source": [
    "## Build the network\n",
    "For the neural network, you'll build each layer into a function.  Most of the code you've seen has been outside of functions. To test your code more thoroughly, we require that you put each layer in a function.  This allows us to give you better feedback and test for simple mistakes using our unittests before you submit your project.\n",
    "\n",
    ">**Note:** If you're finding it hard to dedicate enough time for this course each week, we've provided a small shortcut to this part of the project. In the next couple of problems, you'll have the option to use classes from the [TensorFlow Layers](https://www.tensorflow.org/api_docs/python/tf/layers) or [TensorFlow Layers (contrib)](https://www.tensorflow.org/api_guides/python/contrib.layers) packages to build each layer, except the layers you build in the \"Convolutional and Max Pooling Layer\" section.  TF Layers is similar to Keras's and TFLearn's abstraction to layers, so it's easy to pickup.\n",
    "\n",
    ">However, if you would like to get the most out of this course, try to solve all the problems _without_ using anything from the TF Layers packages. You **can** still use classes from other packages that happen to have the same name as ones you find in TF Layers! For example, instead of using the TF Layers version of the `conv2d` class, [tf.layers.conv2d](https://www.tensorflow.org/api_docs/python/tf/layers/conv2d), you would want to use the TF Neural Network version of `conv2d`, [tf.nn.conv2d](https://www.tensorflow.org/api_docs/python/tf/nn/conv2d). \n",
    "\n",
    "Let's begin!\n",
    "\n",
    "### Input\n",
    "The neural network needs to read the image data, one-hot encoded labels, and dropout keep probability. Implement the following functions\n",
    "* Implement `neural_net_image_input`\n",
    " * Return a [TF Placeholder](https://www.tensorflow.org/api_docs/python/tf/placeholder)\n",
    " * Set the shape using `image_shape` with batch size set to `None`.\n",
    " * Name the TensorFlow placeholder \"x\" using the TensorFlow `name` parameter in the [TF Placeholder](https://www.tensorflow.org/api_docs/python/tf/placeholder).\n",
    "* Implement `neural_net_label_input`\n",
    " * Return a [TF Placeholder](https://www.tensorflow.org/api_docs/python/tf/placeholder)\n",
    " * Set the shape using `n_classes` with batch size set to `None`.\n",
    " * Name the TensorFlow placeholder \"y\" using the TensorFlow `name` parameter in the [TF Placeholder](https://www.tensorflow.org/api_docs/python/tf/placeholder).\n",
    "* Implement `neural_net_keep_prob_input`\n",
    " * Return a [TF Placeholder](https://www.tensorflow.org/api_docs/python/tf/placeholder) for dropout keep probability.\n",
    " * Name the TensorFlow placeholder \"keep_prob\" using the TensorFlow `name` parameter in the [TF Placeholder](https://www.tensorflow.org/api_docs/python/tf/placeholder).\n",
    "\n",
    "These names will be used at the end of the project to load your saved model.\n",
    "\n",
    "Note: `None` for shapes in TensorFlow allow for a dynamic size."
   ]
  },
  {
   "cell_type": "code",
   "execution_count": 7,
   "metadata": {
    "collapsed": false,
    "deletable": true,
    "editable": true
   },
   "outputs": [
    {
     "name": "stdout",
     "output_type": "stream",
     "text": [
      "Image Input Tests Passed.\n",
      "Label Input Tests Passed.\n",
      "Keep Prob Tests Passed.\n"
     ]
    }
   ],
   "source": [
    "import tensorflow as tf\n",
    "\n",
    "def neural_net_image_input(image_shape):\n",
    "    \"\"\"\n",
    "    Return a Tensor for a batch of image input\n",
    "    : image_shape: Shape of the images\n",
    "    : return: Tensor for image input.\n",
    "    \"\"\"\n",
    "    return tf.placeholder(tf.float32, shape = (None, *image_shape), name = \"x\")\n",
    "\n",
    "\n",
    "\n",
    "def neural_net_label_input(n_classes):\n",
    "    \"\"\"\n",
    "    Return a Tensor for a batch of label input\n",
    "    : n_classes: Number of classes\n",
    "    : return: Tensor for label input.\n",
    "    \"\"\"\n",
    "    # TODO: Implement Function\n",
    "    return tf.placeholder(tf.float32, shape = (None, n_classes), name = \"y\")\n",
    "\n",
    "\n",
    "def neural_net_keep_prob_input():\n",
    "    \"\"\"\n",
    "    Return a Tensor for keep probability\n",
    "    : return: Tensor for keep probability.\n",
    "    \"\"\"\n",
    "    # TODO: Implement Function\n",
    "    return tf.placeholder(tf.float32, name = \"keep_prob\")\n",
    "\n",
    "\n",
    "\"\"\"\n",
    "DON'T MODIFY ANYTHING IN THIS CELL THAT IS BELOW THIS LINE\n",
    "\"\"\"\n",
    "tf.reset_default_graph()\n",
    "tests.test_nn_image_inputs(neural_net_image_input)\n",
    "tests.test_nn_label_inputs(neural_net_label_input)\n",
    "tests.test_nn_keep_prob_inputs(neural_net_keep_prob_input)"
   ]
  },
  {
   "cell_type": "markdown",
   "metadata": {
    "deletable": true,
    "editable": true
   },
   "source": [
    "### Convolution and Max Pooling Layer\n",
    "Convolution layers have a lot of success with images. For this code cell, you should implement the function `conv2d_maxpool` to apply convolution then max pooling:\n",
    "* Create the weight and bias using `conv_ksize`, `conv_num_outputs` and the shape of `x_tensor`.\n",
    "* Apply a convolution to `x_tensor` using weight and `conv_strides`.\n",
    " * We recommend you use same padding, but you're welcome to use any padding.\n",
    "* Add bias\n",
    "* Add a nonlinear activation to the convolution.\n",
    "* Apply Max Pooling using `pool_ksize` and `pool_strides`.\n",
    " * We recommend you use same padding, but you're welcome to use any padding.\n",
    "\n",
    "**Note:** You **can't** use [TensorFlow Layers](https://www.tensorflow.org/api_docs/python/tf/layers) or [TensorFlow Layers (contrib)](https://www.tensorflow.org/api_guides/python/contrib.layers) for **this** layer, but you can still use TensorFlow's [Neural Network](https://www.tensorflow.org/api_docs/python/tf/nn) package. You may still use the shortcut option for all the **other** layers."
   ]
  },
  {
   "cell_type": "code",
   "execution_count": 20,
   "metadata": {
    "collapsed": false,
    "deletable": true,
    "editable": true
   },
   "outputs": [
    {
     "data": {
      "text/plain": [
       "\"\\nDON'T MODIFY ANYTHING IN THIS CELL THAT IS BELOW THIS LINE\\n\""
      ]
     },
     "execution_count": 20,
     "metadata": {},
     "output_type": "execute_result"
    }
   ],
   "source": [
    "def conv2d_maxpool(x_tensor, conv_num_outputs, conv_ksize, conv_strides, pool_ksize, pool_strides):\n",
    "    \"\"\"\n",
    "    Apply convolution then max pooling to x_tensor\n",
    "    :param x_tensor: TensorFlow Tensor\n",
    "    :param conv_num_outputs: Number of outputs for the convolutional layer\n",
    "    :param conv_ksize: kernel size 2-D Tuple for the convolutional layer\n",
    "    :param conv_strides: Stride 2-D Tuple for convolution\n",
    "    :param pool_ksize: kernel size 2-D Tuple for pool\n",
    "    :param pool_strides: Stride 2-D Tuple for pool\n",
    "    : return: A tensor that represents convolution and max pooling of x_tensor\n",
    "    \"\"\"\n",
    "    \n",
    "    x_shape = x_tensor.get_shape().as_list()\n",
    "    input_depth = x_shape[3]\n",
    "    \n",
    "    strides = [1, *conv_strides, 1]\n",
    "    \n",
    "    #Apply conv2d\n",
    "    filter_weights1 = tf.Variable(tf.truncated_normal([*conv_ksize, input_depth, conv_num_outputs], stddev=0.05))\n",
    "    filter_bias1 = tf.Variable(tf.constant(0.05, shape = [conv_num_outputs]))\n",
    "    conv_layer = tf.nn.conv2d(x_tensor, filter_weights1, strides, padding=\"SAME\")\n",
    "    conv_layer = tf.nn.bias_add(conv_layer, filter_bias1)\n",
    "    \n",
    "    conv_layer = tf.nn.relu(conv_layer)\n",
    "    \n",
    "    filter_weights2 = tf.Variable(tf.truncated_normal([*conv_ksize, conv_num_outputs, conv_num_outputs], stddev=0.05))\n",
    "    filter_bias2 = tf.Variable(tf.constant(0.05, shape = [conv_num_outputs]))\n",
    "    conv_layer = tf.nn.conv2d(conv_layer, filter_weights2, strides, padding=\"SAME\")\n",
    "    conv_layer = tf.nn.bias_add(conv_layer, filter_bias2)\n",
    "    \n",
    "    #Add batch normalization before activation - to explore later\n",
    "    #batch_mean, batch_var = tf.nn.moments(conv_layer, [0])\n",
    "    #epsilon = 0.001\n",
    "    #beta = tf.Variable(tf.zeros([conv_num_outputs]))\n",
    "    #gamma = tf.Variable(tf.ones([conv_num_outputs]))\n",
    "    #conv_layer = tf.nn.batch_normalization(conv_layer, batch_mean, batch_var, beta, gamma, epsilon)\n",
    "    \n",
    "    #Apply relu activation\n",
    "    conv_layer = tf.nn.relu(conv_layer)\n",
    "\n",
    "    \n",
    "    #Apply maxpool\n",
    "    conv_layer = tf.nn.max_pool(conv_layer, ksize = [1, *pool_ksize, 1], strides = [1, *pool_strides, 1], padding = \"SAME\")\n",
    "    return conv_layer\n",
    "\n",
    "\n",
    "\"\"\"\n",
    "DON'T MODIFY ANYTHING IN THIS CELL THAT IS BELOW THIS LINE\n",
    "\"\"\"\n",
    "#tests.test_con_pool(conv2d_maxpool)"
   ]
  },
  {
   "cell_type": "markdown",
   "metadata": {
    "deletable": true,
    "editable": true
   },
   "source": [
    "### Flatten Layer\n",
    "Implement the `flatten` function to change the dimension of `x_tensor` from a 4-D tensor to a 2-D tensor.  The output should be the shape (*Batch Size*, *Flattened Image Size*). Shortcut option: you can use classes from the [TensorFlow Layers](https://www.tensorflow.org/api_docs/python/tf/layers) or [TensorFlow Layers (contrib)](https://www.tensorflow.org/api_guides/python/contrib.layers) packages for this layer. For more of a challenge, only use other TensorFlow packages."
   ]
  },
  {
   "cell_type": "code",
   "execution_count": 9,
   "metadata": {
    "collapsed": false,
    "deletable": true,
    "editable": true
   },
   "outputs": [
    {
     "name": "stdout",
     "output_type": "stream",
     "text": [
      "Tests Passed\n"
     ]
    }
   ],
   "source": [
    "def flatten(x_tensor):\n",
    "    \"\"\"\n",
    "    Flatten x_tensor to (Batch Size, Flattened Image Size)\n",
    "    : x_tensor: A tensor of size (Batch Size, ...), where ... are the image dimensions.\n",
    "    : return: A tensor of size (Batch Size, Flattened Image Size).\n",
    "    \"\"\"\n",
    "    # Flatten means to reshape the data of a 3d tensor into one dimension of length length*width*height\n",
    "    x_shape = x_tensor.get_shape().as_list()\n",
    "    flattened_tensor = tf.reshape(x_tensor, [x_shape[0] or -1, x_shape[1] * x_shape[2] * x_shape[3]])\n",
    "    return flattened_tensor\n",
    "\n",
    "\n",
    "\"\"\"\n",
    "DON'T MODIFY ANYTHING IN THIS CELL THAT IS BELOW THIS LINE\n",
    "\"\"\"\n",
    "tests.test_flatten(flatten)"
   ]
  },
  {
   "cell_type": "markdown",
   "metadata": {
    "deletable": true,
    "editable": true
   },
   "source": [
    "### Fully-Connected Layer\n",
    "Implement the `fully_conn` function to apply a fully connected layer to `x_tensor` with the shape (*Batch Size*, *num_outputs*). Shortcut option: you can use classes from the [TensorFlow Layers](https://www.tensorflow.org/api_docs/python/tf/layers) or [TensorFlow Layers (contrib)](https://www.tensorflow.org/api_guides/python/contrib.layers) packages for this layer. For more of a challenge, only use other TensorFlow packages."
   ]
  },
  {
   "cell_type": "code",
   "execution_count": 10,
   "metadata": {
    "collapsed": false,
    "deletable": true,
    "editable": true
   },
   "outputs": [
    {
     "name": "stdout",
     "output_type": "stream",
     "text": [
      "Tests Passed\n"
     ]
    }
   ],
   "source": [
    "def fully_conn(x_tensor, num_outputs):\n",
    "    \"\"\"\n",
    "    Apply a fully connected layer to x_tensor using weight and bias\n",
    "    : x_tensor: A 2-D tensor where the first dimension is batch size.\n",
    "    : num_outputs: The number of output that the new tensor should be.\n",
    "    : return: A 2-D tensor where the second dimension is num_outputs.\n",
    "    \"\"\"\n",
    "    fully_connected = tf.layers.dense(inputs = x_tensor, units = num_outputs, activation = tf.nn.relu)\n",
    "    return fully_connected\n",
    "\n",
    "\n",
    "\"\"\"\n",
    "DON'T MODIFY ANYTHING IN THIS CELL THAT IS BELOW THIS LINE\n",
    "\"\"\"\n",
    "tests.test_fully_conn(fully_conn)"
   ]
  },
  {
   "cell_type": "markdown",
   "metadata": {
    "deletable": true,
    "editable": true
   },
   "source": [
    "### Output Layer\n",
    "Implement the `output` function to apply a fully connected layer to `x_tensor` with the shape (*Batch Size*, *num_outputs*). Shortcut option: you can use classes from the [TensorFlow Layers](https://www.tensorflow.org/api_docs/python/tf/layers) or [TensorFlow Layers (contrib)](https://www.tensorflow.org/api_guides/python/contrib.layers) packages for this layer. For more of a challenge, only use other TensorFlow packages.\n",
    "\n",
    "**Note:** Activation, softmax, or cross entropy should **not** be applied to this."
   ]
  },
  {
   "cell_type": "code",
   "execution_count": 11,
   "metadata": {
    "collapsed": false,
    "deletable": true,
    "editable": true
   },
   "outputs": [
    {
     "name": "stdout",
     "output_type": "stream",
     "text": [
      "Tests Passed\n"
     ]
    }
   ],
   "source": [
    "def output(x_tensor, num_outputs):\n",
    "    \"\"\"\n",
    "    Apply a output layer to x_tensor using weight and bias\n",
    "    : x_tensor: A 2-D tensor where the first dimension is batch size.\n",
    "    : num_outputs: The number of output that the new tensor should be.\n",
    "    : return: A 2-D tensor where the second dimension is num_outputs.\n",
    "    \"\"\"\n",
    "    out = tf.layers.dense(inputs = x_tensor, units = num_outputs, activation = None)\n",
    "    return out\n",
    "\n",
    "\n",
    "\"\"\"\n",
    "DON'T MODIFY ANYTHING IN THIS CELL THAT IS BELOW THIS LINE\n",
    "\"\"\"\n",
    "tests.test_output(output)"
   ]
  },
  {
   "cell_type": "markdown",
   "metadata": {
    "deletable": true,
    "editable": true
   },
   "source": [
    "### Create Convolutional Model\n",
    "Implement the function `conv_net` to create a convolutional neural network model. The function takes in a batch of images, `x`, and outputs logits.  Use the layers you created above to create this model:\n",
    "\n",
    "* Apply 1, 2, or 3 Convolution and Max Pool layers\n",
    "* Apply a Flatten Layer\n",
    "* Apply 1, 2, or 3 Fully Connected Layers\n",
    "* Apply an Output Layer\n",
    "* Return the output\n",
    "* Apply [TensorFlow's Dropout](https://www.tensorflow.org/api_docs/python/tf/nn/dropout) to one or more layers in the model using `keep_prob`. "
   ]
  },
  {
   "cell_type": "code",
   "execution_count": 12,
   "metadata": {
    "collapsed": false,
    "deletable": true,
    "editable": true
   },
   "outputs": [
    {
     "name": "stdout",
     "output_type": "stream",
     "text": [
      "Neural Network Built!\n"
     ]
    }
   ],
   "source": [
    "def conv_net(x, keep_prob):\n",
    "    \"\"\"\n",
    "    Create a convolutional neural network model\n",
    "    : x: Placeholder tensor that holds image data.\n",
    "    : keep_prob: Placeholder tensor that hold dropout keep probability.\n",
    "    : return: Tensor that represents logits\n",
    "    \"\"\"\n",
    "    # Apply 1, 2, or 3 Convolution and Max Pool layers\n",
    "    # Function Definition from Above:\n",
    "    #    conv2d_maxpool(x_tensor, conv_num_outputs, conv_ksize, conv_strides, pool_ksize, pool_strides)\n",
    "    #x_shape = x.get_shape().as_list()\n",
    "    #conv_num_outputs = x_shape[3]\n",
    "    #conv_ksize = (x_shape[1] // 2, x_shape[2] // 2)\n",
    "    # In general:\n",
    "    #conv = conv2d_maxpool(x, conv_num_outputs, conv_ksize, conv_strides, pool_ksize, pool_strides)\n",
    "    conv = conv2d_maxpool(x, 8, (3,3), (1,1), (2,2), (2,2))\n",
    "    \n",
    "    #c_shape = conv.get_shape().as_list()\n",
    "    #conv_ksize =  (c_shape[1] // 2, c_shape[2] // 2)\n",
    "    conv = conv2d_maxpool(conv, 16, (3,3), (1,1), (2,2), (2,2))\n",
    "    \n",
    "    #c_shape = conv.get_shape().as_list()\n",
    "    #conv_ksize =  (c_shape[1] // 2, c_shape[2] // 2)\n",
    "    conv = conv2d_maxpool(conv, 32, (3,3), (1,1), (2,2), (2,2))\n",
    "    \n",
    "    #c_shape = conv.get_shape().as_list()\n",
    "    #conv_ksize =  (c_shape[1] // 2, c_shape[2] // 2)\n",
    "    #conv = conv2d_maxpool(conv, 32, (3,3), (1,1), (2,2), (2,2))\n",
    "    \n",
    "\n",
    "    # Apply a Flatten Layer\n",
    "    flat = flatten(conv)\n",
    "    \n",
    "\n",
    "    # Apply Fully Connected Layers\n",
    "    #   fully_conn(x_tensor, num_outputs)\n",
    "    fully_connected = fully_conn(flat, 256)\n",
    "    \n",
    "    fully_connected = tf.nn.dropout(fully_connected, keep_prob)\n",
    "    \n",
    "    fully_connected = fully_conn(fully_connected, 256)\n",
    "    \n",
    "    fully_connected = tf.nn.dropout(fully_connected, keep_prob)\n",
    "    \n",
    "    \n",
    "    # Apply an Output Layer\n",
    "    #   output(x_tensor, num_outputs)\n",
    "    out = output(fully_connected, 10)\n",
    "    \n",
    "    \n",
    "    # return output\n",
    "    return out\n",
    "\n",
    "\n",
    "\"\"\"\n",
    "DON'T MODIFY ANYTHING IN THIS CELL THAT IS BELOW THIS LINE\n",
    "\"\"\"\n",
    "\n",
    "##############################\n",
    "## Build the Neural Network ##\n",
    "##############################\n",
    "\n",
    "# Remove previous weights, bias, inputs, etc..\n",
    "tf.reset_default_graph()\n",
    "\n",
    "# Inputs\n",
    "x = neural_net_image_input((32, 32, 3))\n",
    "y = neural_net_label_input(10)\n",
    "keep_prob = neural_net_keep_prob_input()\n",
    "\n",
    "# Model\n",
    "logits = conv_net(x, keep_prob)\n",
    "\n",
    "# Name logits Tensor, so that is can be loaded from disk after training\n",
    "logits = tf.identity(logits, name='logits')\n",
    "\n",
    "# Loss and Optimizer\n",
    "cost = tf.reduce_mean(tf.nn.softmax_cross_entropy_with_logits(logits=logits, labels=y))\n",
    "optimizer = tf.train.AdamOptimizer().minimize(cost)\n",
    "\n",
    "# Accuracy\n",
    "correct_pred = tf.equal(tf.argmax(logits, 1), tf.argmax(y, 1))\n",
    "accuracy = tf.reduce_mean(tf.cast(correct_pred, tf.float32), name='accuracy')\n",
    "\n",
    "tests.test_conv_net(conv_net)"
   ]
  },
  {
   "cell_type": "markdown",
   "metadata": {
    "deletable": true,
    "editable": true
   },
   "source": [
    "##### Train the Neural Network\n",
    "### Single Optimization\n",
    "Implement the function `train_neural_network` to do a single optimization.  The optimization should use `optimizer` to optimize in `session` with a `feed_dict` of the following:\n",
    "* `x` for image input\n",
    "* `y` for labels\n",
    "* `keep_prob` for keep probability for dropout\n",
    "\n",
    "This function will be called for each batch, so `tf.global_variables_initializer()` has already been called.\n",
    "\n",
    "Note: Nothing needs to be returned. This function is only optimizing the neural network."
   ]
  },
  {
   "cell_type": "code",
   "execution_count": 14,
   "metadata": {
    "collapsed": false,
    "deletable": true,
    "editable": true
   },
   "outputs": [
    {
     "name": "stdout",
     "output_type": "stream",
     "text": [
      "Tests Passed\n"
     ]
    }
   ],
   "source": [
    "def train_neural_network(session, optimizer, keep_probability, feature_batch, label_batch):\n",
    "    \"\"\"\n",
    "    Optimize the session on a batch of images and labels\n",
    "    : session: Current TensorFlow session\n",
    "    : optimizer: TensorFlow optimizer function\n",
    "    : keep_probability: keep probability\n",
    "    : feature_batch: Batch of Numpy image data\n",
    "    : label_batch: Batch of Numpy label data\n",
    "    \"\"\"\n",
    "    # TODO: Implement Function\n",
    "    training_feed_dict = {\n",
    "        x: feature_batch,\n",
    "        y: label_batch,\n",
    "        keep_prob: keep_probability\n",
    "    }\n",
    "    session.run(optimizer, feed_dict=training_feed_dict)\n",
    "\n",
    "\n",
    "\"\"\"\n",
    "DON'T MODIFY ANYTHING IN THIS CELL THAT IS BELOW THIS LINE\n",
    "\"\"\"\n",
    "tests.test_train_nn(train_neural_network)"
   ]
  },
  {
   "cell_type": "markdown",
   "metadata": {
    "deletable": true,
    "editable": true
   },
   "source": [
    "### Show Stats\n",
    "Implement the function `print_stats` to print loss and validation accuracy.  Use the global variables `valid_features` and `valid_labels` to calculate validation accuracy.  Use a keep probability of `1.0` to calculate the loss and validation accuracy."
   ]
  },
  {
   "cell_type": "code",
   "execution_count": 15,
   "metadata": {
    "collapsed": false,
    "deletable": true,
    "editable": true
   },
   "outputs": [],
   "source": [
    "def print_stats(session, feature_batch, label_batch, cost, accuracy):\n",
    "    \"\"\"\n",
    "    Print information about loss and validation accuracy\n",
    "    : session: Current TensorFlow session\n",
    "    : feature_batch: Batch of Numpy image data\n",
    "    : label_batch: Batch of Numpy label data\n",
    "    : cost: TensorFlow cost function\n",
    "    : accuracy: TensorFlow accuracy function\n",
    "    \"\"\"\n",
    "    # TODO: Implement Function\n",
    "    current_cost = session.run(\n",
    "        cost,\n",
    "        feed_dict = {x: feature_batch, y: label_batch, keep_prob: 1.0}\n",
    "    )\n",
    "    \n",
    "    valid_accuracy = session.run(\n",
    "        accuracy,\n",
    "        feed_dict = {x: valid_features, y: valid_labels, keep_prob: 1.0}\n",
    "    )\n",
    "    \n",
    "    print('Cost: {} Validation Accuracy: {}'.format(current_cost, valid_accuracy))"
   ]
  },
  {
   "cell_type": "markdown",
   "metadata": {
    "deletable": true,
    "editable": true
   },
   "source": [
    "### Hyperparameters\n",
    "Tune the following parameters:\n",
    "* Set `epochs` to the number of iterations until the network stops learning or start overfitting\n",
    "* Set `batch_size` to the highest number that your machine has memory for.  Most people set them to common sizes of memory:\n",
    " * 64\n",
    " * 128\n",
    " * 256\n",
    " * ...\n",
    "* Set `keep_probability` to the probability of keeping a node using dropout"
   ]
  },
  {
   "cell_type": "code",
   "execution_count": 22,
   "metadata": {
    "collapsed": true,
    "deletable": true,
    "editable": true
   },
   "outputs": [],
   "source": [
    "# TODO: Tune Parameters\n",
    "epochs = 50\n",
    "batch_size = 128\n",
    "keep_probability = 0.50"
   ]
  },
  {
   "cell_type": "markdown",
   "metadata": {
    "deletable": true,
    "editable": true
   },
   "source": [
    "### Train on a Single CIFAR-10 Batch\n",
    "Instead of training the neural network on all the CIFAR-10 batches of data, let's use a single batch. This should save time while you iterate on the model to get a better accuracy.  Once the final validation accuracy is 50% or greater, run the model on all the data in the next section."
   ]
  },
  {
   "cell_type": "code",
   "execution_count": 27,
   "metadata": {
    "collapsed": false,
    "deletable": true,
    "editable": true
   },
   "outputs": [
    {
     "name": "stdout",
     "output_type": "stream",
     "text": [
      "Checking the Training on a Single Batch...\n",
      "Epoch  1, CIFAR-10 Batch 1:  Cost: 2.303227186203003 Validation Accuracy: 0.0997999981045723\n",
      "Epoch  2, CIFAR-10 Batch 1:  Cost: 2.261667251586914 Validation Accuracy: 0.18140000104904175\n",
      "Epoch  3, CIFAR-10 Batch 1:  Cost: 2.154357433319092 Validation Accuracy: 0.25999999046325684\n",
      "Epoch  4, CIFAR-10 Batch 1:  Cost: 2.109088659286499 Validation Accuracy: 0.28060001134872437\n",
      "Epoch  5, CIFAR-10 Batch 1:  Cost: 2.035162925720215 Validation Accuracy: 0.3068000078201294\n",
      "Epoch  6, CIFAR-10 Batch 1:  Cost: 1.9392051696777344 Validation Accuracy: 0.33379998803138733\n",
      "Epoch  7, CIFAR-10 Batch 1:  Cost: 1.8248964548110962 Validation Accuracy: 0.37959998846054077\n",
      "Epoch  8, CIFAR-10 Batch 1:  Cost: 1.7388255596160889 Validation Accuracy: 0.3991999924182892\n",
      "Epoch  9, CIFAR-10 Batch 1:  Cost: 1.6287628412246704 Validation Accuracy: 0.43059998750686646\n",
      "Epoch 10, CIFAR-10 Batch 1:  Cost: 1.5712693929672241 Validation Accuracy: 0.43700000643730164\n",
      "Epoch 11, CIFAR-10 Batch 1:  Cost: 1.4832109212875366 Validation Accuracy: 0.43220001459121704\n",
      "Epoch 12, CIFAR-10 Batch 1:  Cost: 1.3773572444915771 Validation Accuracy: 0.45680001378059387\n",
      "Epoch 13, CIFAR-10 Batch 1:  Cost: 1.2847949266433716 Validation Accuracy: 0.4636000096797943\n",
      "Epoch 14, CIFAR-10 Batch 1:  Cost: 1.183908224105835 Validation Accuracy: 0.46140000224113464\n",
      "Epoch 15, CIFAR-10 Batch 1:  Cost: 1.0841354131698608 Validation Accuracy: 0.4742000102996826\n",
      "Epoch 16, CIFAR-10 Batch 1:  Cost: 1.0292463302612305 Validation Accuracy: 0.475600004196167\n",
      "Epoch 17, CIFAR-10 Batch 1:  Cost: 0.9105801582336426 Validation Accuracy: 0.4832000136375427\n",
      "Epoch 18, CIFAR-10 Batch 1:  Cost: 0.893018901348114 Validation Accuracy: 0.4860000014305115\n",
      "Epoch 19, CIFAR-10 Batch 1:  Cost: 0.8123307228088379 Validation Accuracy: 0.49000000953674316\n",
      "Epoch 20, CIFAR-10 Batch 1:  Cost: 0.7268432378768921 Validation Accuracy: 0.49160000681877136\n"
     ]
    }
   ],
   "source": [
    "\"\"\"\n",
    "DON'T MODIFY ANYTHING IN THIS CELL\n",
    "\"\"\"\n",
    "print('Checking the Training on a Single Batch...')\n",
    "with tf.Session() as sess:\n",
    "    # Initializing the variables\n",
    "    sess.run(tf.global_variables_initializer())\n",
    "    \n",
    "    # Training cycle\n",
    "    for epoch in range(epochs):\n",
    "        batch_i = 1\n",
    "        for batch_features, batch_labels in helper.load_preprocess_training_batch(batch_i, batch_size):\n",
    "            train_neural_network(sess, optimizer, keep_probability, batch_features, batch_labels)\n",
    "        print('Epoch {:>2}, CIFAR-10 Batch {}:  '.format(epoch + 1, batch_i), end='')\n",
    "        print_stats(sess, batch_features, batch_labels, cost, accuracy)"
   ]
  },
  {
   "cell_type": "markdown",
   "metadata": {
    "deletable": true,
    "editable": true
   },
   "source": [
    "### Fully Train the Model\n",
    "Now that you got a good accuracy with a single CIFAR-10 batch, try it with all five batches."
   ]
  },
  {
   "cell_type": "code",
   "execution_count": 23,
   "metadata": {
    "collapsed": false,
    "deletable": true,
    "editable": true
   },
   "outputs": [
    {
     "name": "stdout",
     "output_type": "stream",
     "text": [
      "Training...\n",
      "Epoch  1, CIFAR-10 Batch 1:  Cost: 2.3019089698791504 Validation Accuracy: 0.10199999809265137\n",
      "Epoch  1, CIFAR-10 Batch 2:  Cost: 2.1774256229400635 Validation Accuracy: 0.19339999556541443\n",
      "Epoch  1, CIFAR-10 Batch 3:  Cost: 1.846387267112732 Validation Accuracy: 0.25540000200271606\n",
      "Epoch  1, CIFAR-10 Batch 4:  Cost: 1.809966802597046 Validation Accuracy: 0.3068000078201294\n",
      "Epoch  1, CIFAR-10 Batch 5:  Cost: 1.921459436416626 Validation Accuracy: 0.32760000228881836\n",
      "Epoch  2, CIFAR-10 Batch 1:  Cost: 1.9657974243164062 Validation Accuracy: 0.3513999879360199\n",
      "Epoch  2, CIFAR-10 Batch 2:  Cost: 1.87399423122406 Validation Accuracy: 0.37220001220703125\n",
      "Epoch  2, CIFAR-10 Batch 3:  Cost: 1.5359681844711304 Validation Accuracy: 0.39640000462532043\n",
      "Epoch  2, CIFAR-10 Batch 4:  Cost: 1.5921499729156494 Validation Accuracy: 0.4129999876022339\n",
      "Epoch  2, CIFAR-10 Batch 5:  Cost: 1.7576137781143188 Validation Accuracy: 0.4296000003814697\n",
      "Epoch  3, CIFAR-10 Batch 1:  Cost: 1.713036298751831 Validation Accuracy: 0.4480000138282776\n",
      "Epoch  3, CIFAR-10 Batch 2:  Cost: 1.6627388000488281 Validation Accuracy: 0.44999998807907104\n",
      "Epoch  3, CIFAR-10 Batch 3:  Cost: 1.41800856590271 Validation Accuracy: 0.44440001249313354\n",
      "Epoch  3, CIFAR-10 Batch 4:  Cost: 1.459450602531433 Validation Accuracy: 0.47099998593330383\n",
      "Epoch  3, CIFAR-10 Batch 5:  Cost: 1.5335460901260376 Validation Accuracy: 0.477400004863739\n",
      "Epoch  4, CIFAR-10 Batch 1:  Cost: 1.5363940000534058 Validation Accuracy: 0.47839999198913574\n",
      "Epoch  4, CIFAR-10 Batch 2:  Cost: 1.5883800983428955 Validation Accuracy: 0.4851999878883362\n",
      "Epoch  4, CIFAR-10 Batch 3:  Cost: 1.2303104400634766 Validation Accuracy: 0.4991999864578247\n",
      "Epoch  4, CIFAR-10 Batch 4:  Cost: 1.3480645418167114 Validation Accuracy: 0.503000020980835\n",
      "Epoch  4, CIFAR-10 Batch 5:  Cost: 1.3616440296173096 Validation Accuracy: 0.5044000148773193\n",
      "Epoch  5, CIFAR-10 Batch 1:  Cost: 1.374550700187683 Validation Accuracy: 0.5152000188827515\n",
      "Epoch  5, CIFAR-10 Batch 2:  Cost: 1.5557677745819092 Validation Accuracy: 0.5216000080108643\n",
      "Epoch  5, CIFAR-10 Batch 3:  Cost: 1.1931549310684204 Validation Accuracy: 0.517799973487854\n",
      "Epoch  5, CIFAR-10 Batch 4:  Cost: 1.272655725479126 Validation Accuracy: 0.521399974822998\n",
      "Epoch  5, CIFAR-10 Batch 5:  Cost: 1.2351949214935303 Validation Accuracy: 0.5174000263214111\n",
      "Epoch  6, CIFAR-10 Batch 1:  Cost: 1.2572914361953735 Validation Accuracy: 0.5235999822616577\n",
      "Epoch  6, CIFAR-10 Batch 2:  Cost: 1.3908294439315796 Validation Accuracy: 0.5332000255584717\n",
      "Epoch  6, CIFAR-10 Batch 3:  Cost: 1.1670448780059814 Validation Accuracy: 0.5239999890327454\n",
      "Epoch  6, CIFAR-10 Batch 4:  Cost: 1.1848313808441162 Validation Accuracy: 0.5388000011444092\n",
      "Epoch  6, CIFAR-10 Batch 5:  Cost: 1.148400068283081 Validation Accuracy: 0.5555999875068665\n",
      "Epoch  7, CIFAR-10 Batch 1:  Cost: 1.1627552509307861 Validation Accuracy: 0.550599992275238\n",
      "Epoch  7, CIFAR-10 Batch 2:  Cost: 1.3565537929534912 Validation Accuracy: 0.5496000051498413\n",
      "Epoch  7, CIFAR-10 Batch 3:  Cost: 1.0998731851577759 Validation Accuracy: 0.5583999752998352\n",
      "Epoch  7, CIFAR-10 Batch 4:  Cost: 1.0746206045150757 Validation Accuracy: 0.5598000288009644\n",
      "Epoch  7, CIFAR-10 Batch 5:  Cost: 1.1190478801727295 Validation Accuracy: 0.5672000050544739\n",
      "Epoch  8, CIFAR-10 Batch 1:  Cost: 1.0946998596191406 Validation Accuracy: 0.5616000294685364\n",
      "Epoch  8, CIFAR-10 Batch 2:  Cost: 1.3166561126708984 Validation Accuracy: 0.5633999705314636\n",
      "Epoch  8, CIFAR-10 Batch 3:  Cost: 1.072197675704956 Validation Accuracy: 0.5612000226974487\n",
      "Epoch  8, CIFAR-10 Batch 4:  Cost: 1.0143146514892578 Validation Accuracy: 0.5771999955177307\n",
      "Epoch  8, CIFAR-10 Batch 5:  Cost: 1.0327905416488647 Validation Accuracy: 0.5812000036239624\n",
      "Epoch  9, CIFAR-10 Batch 1:  Cost: 1.0433183908462524 Validation Accuracy: 0.5694000124931335\n",
      "Epoch  9, CIFAR-10 Batch 2:  Cost: 1.229851484298706 Validation Accuracy: 0.5663999915122986\n",
      "Epoch  9, CIFAR-10 Batch 3:  Cost: 1.0044082403182983 Validation Accuracy: 0.5651999711990356\n",
      "Epoch  9, CIFAR-10 Batch 4:  Cost: 0.9515880346298218 Validation Accuracy: 0.5723999738693237\n",
      "Epoch  9, CIFAR-10 Batch 5:  Cost: 0.9350525140762329 Validation Accuracy: 0.5920000076293945\n",
      "Epoch 10, CIFAR-10 Batch 1:  Cost: 0.9421084523200989 Validation Accuracy: 0.5838000178337097\n",
      "Epoch 10, CIFAR-10 Batch 2:  Cost: 1.1419086456298828 Validation Accuracy: 0.5849999785423279\n",
      "Epoch 10, CIFAR-10 Batch 3:  Cost: 0.9579778909683228 Validation Accuracy: 0.5821999907493591\n",
      "Epoch 10, CIFAR-10 Batch 4:  Cost: 0.8871713876724243 Validation Accuracy: 0.5809999704360962\n",
      "Epoch 10, CIFAR-10 Batch 5:  Cost: 0.8377860188484192 Validation Accuracy: 0.5952000021934509\n",
      "Epoch 11, CIFAR-10 Batch 1:  Cost: 0.9147361516952515 Validation Accuracy: 0.5965999960899353\n",
      "Epoch 11, CIFAR-10 Batch 2:  Cost: 1.030338168144226 Validation Accuracy: 0.605400025844574\n",
      "Epoch 11, CIFAR-10 Batch 3:  Cost: 0.856270432472229 Validation Accuracy: 0.5934000015258789\n",
      "Epoch 11, CIFAR-10 Batch 4:  Cost: 0.7879050970077515 Validation Accuracy: 0.6086000204086304\n",
      "Epoch 11, CIFAR-10 Batch 5:  Cost: 0.7844868302345276 Validation Accuracy: 0.5996000170707703\n",
      "Epoch 12, CIFAR-10 Batch 1:  Cost: 0.7962898015975952 Validation Accuracy: 0.6101999878883362\n",
      "Epoch 12, CIFAR-10 Batch 2:  Cost: 1.0434802770614624 Validation Accuracy: 0.6132000088691711\n",
      "Epoch 12, CIFAR-10 Batch 3:  Cost: 0.8329545259475708 Validation Accuracy: 0.6172000169754028\n",
      "Epoch 12, CIFAR-10 Batch 4:  Cost: 0.7575616836547852 Validation Accuracy: 0.6159999966621399\n",
      "Epoch 12, CIFAR-10 Batch 5:  Cost: 0.7264520525932312 Validation Accuracy: 0.599399983882904\n",
      "Epoch 13, CIFAR-10 Batch 1:  Cost: 0.725534200668335 Validation Accuracy: 0.6200000047683716\n",
      "Epoch 13, CIFAR-10 Batch 2:  Cost: 0.9165016412734985 Validation Accuracy: 0.6212000250816345\n",
      "Epoch 13, CIFAR-10 Batch 3:  Cost: 0.8003728985786438 Validation Accuracy: 0.6222000122070312\n",
      "Epoch 13, CIFAR-10 Batch 4:  Cost: 0.7066629528999329 Validation Accuracy: 0.6168000102043152\n",
      "Epoch 13, CIFAR-10 Batch 5:  Cost: 0.7115751504898071 Validation Accuracy: 0.6195999979972839\n",
      "Epoch 14, CIFAR-10 Batch 1:  Cost: 0.7392407655715942 Validation Accuracy: 0.6226000189781189\n",
      "Epoch 14, CIFAR-10 Batch 2:  Cost: 0.8876001238822937 Validation Accuracy: 0.6179999709129333\n",
      "Epoch 14, CIFAR-10 Batch 3:  Cost: 0.7768233418464661 Validation Accuracy: 0.6331999897956848\n",
      "Epoch 14, CIFAR-10 Batch 4:  Cost: 0.6658622622489929 Validation Accuracy: 0.6269999742507935\n",
      "Epoch 14, CIFAR-10 Batch 5:  Cost: 0.6616052985191345 Validation Accuracy: 0.6140000224113464\n",
      "Epoch 15, CIFAR-10 Batch 1:  Cost: 0.7391988635063171 Validation Accuracy: 0.6349999904632568\n",
      "Epoch 15, CIFAR-10 Batch 2:  Cost: 0.7883885502815247 Validation Accuracy: 0.6373999714851379\n",
      "Epoch 15, CIFAR-10 Batch 3:  Cost: 0.6850498914718628 Validation Accuracy: 0.6323999762535095\n",
      "Epoch 15, CIFAR-10 Batch 4:  Cost: 0.6439629793167114 Validation Accuracy: 0.6371999979019165\n",
      "Epoch 15, CIFAR-10 Batch 5:  Cost: 0.6039239764213562 Validation Accuracy: 0.6284000277519226\n",
      "Epoch 16, CIFAR-10 Batch 1:  Cost: 0.6683746576309204 Validation Accuracy: 0.6384000182151794\n",
      "Epoch 16, CIFAR-10 Batch 2:  Cost: 0.7523943185806274 Validation Accuracy: 0.6349999904632568\n",
      "Epoch 16, CIFAR-10 Batch 3:  Cost: 0.7169491052627563 Validation Accuracy: 0.6209999918937683\n",
      "Epoch 16, CIFAR-10 Batch 4:  Cost: 0.5814772248268127 Validation Accuracy: 0.6420000195503235\n",
      "Epoch 16, CIFAR-10 Batch 5:  Cost: 0.6672295928001404 Validation Accuracy: 0.621399998664856\n",
      "Epoch 17, CIFAR-10 Batch 1:  Cost: 0.665088951587677 Validation Accuracy: 0.6417999863624573\n",
      "Epoch 17, CIFAR-10 Batch 2:  Cost: 0.6867343783378601 Validation Accuracy: 0.6406000256538391\n",
      "Epoch 17, CIFAR-10 Batch 3:  Cost: 0.5910341143608093 Validation Accuracy: 0.6444000005722046\n",
      "Epoch 17, CIFAR-10 Batch 4:  Cost: 0.49197012186050415 Validation Accuracy: 0.6385999917984009\n",
      "Epoch 17, CIFAR-10 Batch 5:  Cost: 0.5622998476028442 Validation Accuracy: 0.63919997215271\n",
      "Epoch 18, CIFAR-10 Batch 1:  Cost: 0.6329253911972046 Validation Accuracy: 0.647599995136261\n",
      "Epoch 18, CIFAR-10 Batch 2:  Cost: 0.7434350848197937 Validation Accuracy: 0.6403999924659729\n",
      "Epoch 18, CIFAR-10 Batch 3:  Cost: 0.5495094060897827 Validation Accuracy: 0.6484000086784363\n",
      "Epoch 18, CIFAR-10 Batch 4:  Cost: 0.44730305671691895 Validation Accuracy: 0.6556000113487244\n",
      "Epoch 18, CIFAR-10 Batch 5:  Cost: 0.579607367515564 Validation Accuracy: 0.6380000114440918\n",
      "Epoch 19, CIFAR-10 Batch 1:  Cost: 0.6006525158882141 Validation Accuracy: 0.6521999835968018\n",
      "Epoch 19, CIFAR-10 Batch 2:  Cost: 0.7707202434539795 Validation Accuracy: 0.633400022983551\n",
      "Epoch 19, CIFAR-10 Batch 3:  Cost: 0.5141231417655945 Validation Accuracy: 0.6488000154495239\n",
      "Epoch 19, CIFAR-10 Batch 4:  Cost: 0.4504612982273102 Validation Accuracy: 0.6589999794960022\n",
      "Epoch 19, CIFAR-10 Batch 5:  Cost: 0.5282913446426392 Validation Accuracy: 0.6510000228881836\n",
      "Epoch 20, CIFAR-10 Batch 1:  Cost: 0.5402911901473999 Validation Accuracy: 0.6647999882698059\n",
      "Epoch 20, CIFAR-10 Batch 2:  Cost: 0.6878806948661804 Validation Accuracy: 0.6534000039100647\n",
      "Epoch 20, CIFAR-10 Batch 3:  Cost: 0.46937695145606995 Validation Accuracy: 0.6585999727249146\n",
      "Epoch 20, CIFAR-10 Batch 4:  Cost: 0.4100887179374695 Validation Accuracy: 0.6615999937057495\n",
      "Epoch 20, CIFAR-10 Batch 5:  Cost: 0.513917088508606 Validation Accuracy: 0.6492000222206116\n",
      "Epoch 21, CIFAR-10 Batch 1:  Cost: 0.569351315498352 Validation Accuracy: 0.6528000235557556\n",
      "Epoch 21, CIFAR-10 Batch 2:  Cost: 0.6457763314247131 Validation Accuracy: 0.645799994468689\n",
      "Epoch 21, CIFAR-10 Batch 3:  Cost: 0.4729248881340027 Validation Accuracy: 0.6444000005722046\n",
      "Epoch 21, CIFAR-10 Batch 4:  Cost: 0.4379308819770813 Validation Accuracy: 0.6579999923706055\n",
      "Epoch 21, CIFAR-10 Batch 5:  Cost: 0.48340946435928345 Validation Accuracy: 0.6557999849319458\n",
      "Epoch 22, CIFAR-10 Batch 1:  Cost: 0.5034182667732239 Validation Accuracy: 0.6600000262260437\n",
      "Epoch 22, CIFAR-10 Batch 2:  Cost: 0.6245115995407104 Validation Accuracy: 0.6585999727249146\n",
      "Epoch 22, CIFAR-10 Batch 3:  Cost: 0.4379886984825134 Validation Accuracy: 0.6489999890327454\n",
      "Epoch 22, CIFAR-10 Batch 4:  Cost: 0.3480423390865326 Validation Accuracy: 0.6678000092506409\n",
      "Epoch 22, CIFAR-10 Batch 5:  Cost: 0.5016888380050659 Validation Accuracy: 0.6639999747276306\n",
      "Epoch 23, CIFAR-10 Batch 1:  Cost: 0.48160314559936523 Validation Accuracy: 0.6564000248908997\n",
      "Epoch 23, CIFAR-10 Batch 2:  Cost: 0.6203432679176331 Validation Accuracy: 0.646399974822998\n",
      "Epoch 23, CIFAR-10 Batch 3:  Cost: 0.39369016885757446 Validation Accuracy: 0.6496000289916992\n",
      "Epoch 23, CIFAR-10 Batch 4:  Cost: 0.40474700927734375 Validation Accuracy: 0.6628000140190125\n",
      "Epoch 23, CIFAR-10 Batch 5:  Cost: 0.5168772339820862 Validation Accuracy: 0.6692000031471252\n",
      "Epoch 24, CIFAR-10 Batch 1:  Cost: 0.4712388515472412 Validation Accuracy: 0.6615999937057495\n",
      "Epoch 24, CIFAR-10 Batch 2:  Cost: 0.5071350932121277 Validation Accuracy: 0.6607999801635742\n",
      "Epoch 24, CIFAR-10 Batch 3:  Cost: 0.4104209542274475 Validation Accuracy: 0.65420001745224\n",
      "Epoch 24, CIFAR-10 Batch 4:  Cost: 0.3582758605480194 Validation Accuracy: 0.6582000255584717\n",
      "Epoch 24, CIFAR-10 Batch 5:  Cost: 0.4688250422477722 Validation Accuracy: 0.6672000288963318\n",
      "Epoch 25, CIFAR-10 Batch 1:  Cost: 0.5192774534225464 Validation Accuracy: 0.6654000282287598\n",
      "Epoch 25, CIFAR-10 Batch 2:  Cost: 0.5204654932022095 Validation Accuracy: 0.6654000282287598\n",
      "Epoch 25, CIFAR-10 Batch 3:  Cost: 0.3787708580493927 Validation Accuracy: 0.65420001745224\n",
      "Epoch 25, CIFAR-10 Batch 4:  Cost: 0.35417789220809937 Validation Accuracy: 0.6610000133514404\n",
      "Epoch 25, CIFAR-10 Batch 5:  Cost: 0.4635143280029297 Validation Accuracy: 0.6741999983787537\n",
      "Epoch 26, CIFAR-10 Batch 1:  Cost: 0.4425177574157715 Validation Accuracy: 0.659600019454956\n",
      "Epoch 26, CIFAR-10 Batch 2:  Cost: 0.5321311950683594 Validation Accuracy: 0.6565999984741211\n",
      "Epoch 26, CIFAR-10 Batch 3:  Cost: 0.41068029403686523 Validation Accuracy: 0.645799994468689\n",
      "Epoch 26, CIFAR-10 Batch 4:  Cost: 0.3677310347557068 Validation Accuracy: 0.6650000214576721\n",
      "Epoch 26, CIFAR-10 Batch 5:  Cost: 0.4557163119316101 Validation Accuracy: 0.6650000214576721\n",
      "Epoch 27, CIFAR-10 Batch 1:  Cost: 0.5021554827690125 Validation Accuracy: 0.6570000052452087\n",
      "Epoch 27, CIFAR-10 Batch 2:  Cost: 0.5221441984176636 Validation Accuracy: 0.6682000160217285\n",
      "Epoch 27, CIFAR-10 Batch 3:  Cost: 0.37998175621032715 Validation Accuracy: 0.6583999991416931\n",
      "Epoch 27, CIFAR-10 Batch 4:  Cost: 0.32301920652389526 Validation Accuracy: 0.673799991607666\n",
      "Epoch 27, CIFAR-10 Batch 5:  Cost: 0.365365594625473 Validation Accuracy: 0.6729999780654907\n",
      "Epoch 28, CIFAR-10 Batch 1:  Cost: 0.43816789984703064 Validation Accuracy: 0.6660000085830688\n",
      "Epoch 28, CIFAR-10 Batch 2:  Cost: 0.5132001638412476 Validation Accuracy: 0.6791999936103821\n",
      "Epoch 28, CIFAR-10 Batch 3:  Cost: 0.34966331720352173 Validation Accuracy: 0.6614000201225281\n",
      "Epoch 28, CIFAR-10 Batch 4:  Cost: 0.37531647086143494 Validation Accuracy: 0.6629999876022339\n",
      "Epoch 28, CIFAR-10 Batch 5:  Cost: 0.3705781400203705 Validation Accuracy: 0.6714000105857849\n",
      "Epoch 29, CIFAR-10 Batch 1:  Cost: 0.4041885733604431 Validation Accuracy: 0.6585999727249146\n",
      "Epoch 29, CIFAR-10 Batch 2:  Cost: 0.44878309965133667 Validation Accuracy: 0.6733999848365784\n",
      "Epoch 29, CIFAR-10 Batch 3:  Cost: 0.34322088956832886 Validation Accuracy: 0.6607999801635742\n",
      "Epoch 29, CIFAR-10 Batch 4:  Cost: 0.3357863426208496 Validation Accuracy: 0.6669999957084656\n",
      "Epoch 29, CIFAR-10 Batch 5:  Cost: 0.3742302358150482 Validation Accuracy: 0.6747999787330627\n",
      "Epoch 30, CIFAR-10 Batch 1:  Cost: 0.4179520606994629 Validation Accuracy: 0.6687999963760376\n",
      "Epoch 30, CIFAR-10 Batch 2:  Cost: 0.43410196900367737 Validation Accuracy: 0.6747999787330627\n",
      "Epoch 30, CIFAR-10 Batch 3:  Cost: 0.30848705768585205 Validation Accuracy: 0.6686000227928162\n",
      "Epoch 30, CIFAR-10 Batch 4:  Cost: 0.3028498589992523 Validation Accuracy: 0.6675999760627747\n",
      "Epoch 30, CIFAR-10 Batch 5:  Cost: 0.35129454731941223 Validation Accuracy: 0.6783999800682068\n",
      "Epoch 31, CIFAR-10 Batch 1:  Cost: 0.40709012746810913 Validation Accuracy: 0.6746000051498413\n",
      "Epoch 31, CIFAR-10 Batch 2:  Cost: 0.38304588198661804 Validation Accuracy: 0.6746000051498413\n",
      "Epoch 31, CIFAR-10 Batch 3:  Cost: 0.3213918209075928 Validation Accuracy: 0.6687999963760376\n",
      "Epoch 31, CIFAR-10 Batch 4:  Cost: 0.32675737142562866 Validation Accuracy: 0.6657999753952026\n",
      "Epoch 31, CIFAR-10 Batch 5:  Cost: 0.33973878622055054 Validation Accuracy: 0.6782000064849854\n",
      "Epoch 32, CIFAR-10 Batch 1:  Cost: 0.3990934193134308 Validation Accuracy: 0.6661999821662903\n",
      "Epoch 32, CIFAR-10 Batch 2:  Cost: 0.41272449493408203 Validation Accuracy: 0.6819999814033508\n",
      "Epoch 32, CIFAR-10 Batch 3:  Cost: 0.3018462657928467 Validation Accuracy: 0.6665999889373779\n",
      "Epoch 32, CIFAR-10 Batch 4:  Cost: 0.33889099955558777 Validation Accuracy: 0.6547999978065491\n",
      "Epoch 32, CIFAR-10 Batch 5:  Cost: 0.31962570548057556 Validation Accuracy: 0.6805999875068665\n",
      "Epoch 33, CIFAR-10 Batch 1:  Cost: 0.35339444875717163 Validation Accuracy: 0.6772000193595886\n",
      "Epoch 33, CIFAR-10 Batch 2:  Cost: 0.41826334595680237 Validation Accuracy: 0.6764000058174133\n",
      "Epoch 33, CIFAR-10 Batch 3:  Cost: 0.2680099904537201 Validation Accuracy: 0.6638000011444092\n",
      "Epoch 33, CIFAR-10 Batch 4:  Cost: 0.3065570294857025 Validation Accuracy: 0.6628000140190125\n",
      "Epoch 33, CIFAR-10 Batch 5:  Cost: 0.30794525146484375 Validation Accuracy: 0.6814000010490417\n",
      "Epoch 34, CIFAR-10 Batch 1:  Cost: 0.33667755126953125 Validation Accuracy: 0.675599992275238\n",
      "Epoch 34, CIFAR-10 Batch 2:  Cost: 0.39653587341308594 Validation Accuracy: 0.6869999766349792\n",
      "Epoch 34, CIFAR-10 Batch 3:  Cost: 0.2849952280521393 Validation Accuracy: 0.673799991607666\n",
      "Epoch 34, CIFAR-10 Batch 4:  Cost: 0.3130281865596771 Validation Accuracy: 0.675000011920929\n",
      "Epoch 34, CIFAR-10 Batch 5:  Cost: 0.27494245767593384 Validation Accuracy: 0.6796000003814697\n",
      "Epoch 35, CIFAR-10 Batch 1:  Cost: 0.3399372100830078 Validation Accuracy: 0.6758000254631042\n",
      "Epoch 35, CIFAR-10 Batch 2:  Cost: 0.4164131283760071 Validation Accuracy: 0.6855999827384949\n",
      "Epoch 35, CIFAR-10 Batch 3:  Cost: 0.286346971988678 Validation Accuracy: 0.6618000268936157\n",
      "Epoch 35, CIFAR-10 Batch 4:  Cost: 0.27165403962135315 Validation Accuracy: 0.6773999929428101\n",
      "Epoch 35, CIFAR-10 Batch 5:  Cost: 0.2933230400085449 Validation Accuracy: 0.6794000267982483\n",
      "Epoch 36, CIFAR-10 Batch 1:  Cost: 0.34103140234947205 Validation Accuracy: 0.6682000160217285\n",
      "Epoch 36, CIFAR-10 Batch 2:  Cost: 0.3582339286804199 Validation Accuracy: 0.6934000253677368\n",
      "Epoch 36, CIFAR-10 Batch 3:  Cost: 0.24700841307640076 Validation Accuracy: 0.6697999835014343\n",
      "Epoch 36, CIFAR-10 Batch 4:  Cost: 0.2820320129394531 Validation Accuracy: 0.670199990272522\n",
      "Epoch 36, CIFAR-10 Batch 5:  Cost: 0.28969693183898926 Validation Accuracy: 0.6715999841690063\n",
      "Epoch 37, CIFAR-10 Batch 1:  Cost: 0.2996898293495178 Validation Accuracy: 0.6812000274658203\n",
      "Epoch 37, CIFAR-10 Batch 2:  Cost: 0.36882996559143066 Validation Accuracy: 0.6855999827384949\n",
      "Epoch 37, CIFAR-10 Batch 3:  Cost: 0.24581623077392578 Validation Accuracy: 0.6711999773979187\n",
      "Epoch 37, CIFAR-10 Batch 4:  Cost: 0.2690158486366272 Validation Accuracy: 0.6661999821662903\n",
      "Epoch 37, CIFAR-10 Batch 5:  Cost: 0.28998804092407227 Validation Accuracy: 0.675599992275238\n",
      "Epoch 38, CIFAR-10 Batch 1:  Cost: 0.35497817397117615 Validation Accuracy: 0.6678000092506409\n",
      "Epoch 38, CIFAR-10 Batch 2:  Cost: 0.47194594144821167 Validation Accuracy: 0.6868000030517578\n",
      "Epoch 38, CIFAR-10 Batch 3:  Cost: 0.26678037643432617 Validation Accuracy: 0.6583999991416931\n",
      "Epoch 38, CIFAR-10 Batch 4:  Cost: 0.27602773904800415 Validation Accuracy: 0.6777999997138977\n",
      "Epoch 38, CIFAR-10 Batch 5:  Cost: 0.2574382722377777 Validation Accuracy: 0.6800000071525574\n",
      "Epoch 39, CIFAR-10 Batch 1:  Cost: 0.3459845185279846 Validation Accuracy: 0.6790000200271606\n",
      "Epoch 39, CIFAR-10 Batch 2:  Cost: 0.36573243141174316 Validation Accuracy: 0.6895999908447266\n",
      "Epoch 39, CIFAR-10 Batch 3:  Cost: 0.2803214490413666 Validation Accuracy: 0.6629999876022339\n",
      "Epoch 39, CIFAR-10 Batch 4:  Cost: 0.2592054307460785 Validation Accuracy: 0.6887999773025513\n",
      "Epoch 39, CIFAR-10 Batch 5:  Cost: 0.2928236424922943 Validation Accuracy: 0.6862000226974487\n",
      "Epoch 40, CIFAR-10 Batch 1:  Cost: 0.27180179953575134 Validation Accuracy: 0.6880000233650208\n",
      "Epoch 40, CIFAR-10 Batch 2:  Cost: 0.34822767972946167 Validation Accuracy: 0.6872000098228455\n",
      "Epoch 40, CIFAR-10 Batch 3:  Cost: 0.24906787276268005 Validation Accuracy: 0.6741999983787537\n",
      "Epoch 40, CIFAR-10 Batch 4:  Cost: 0.24151675403118134 Validation Accuracy: 0.6837999820709229\n",
      "Epoch 40, CIFAR-10 Batch 5:  Cost: 0.2474604845046997 Validation Accuracy: 0.6814000010490417\n",
      "Epoch 41, CIFAR-10 Batch 1:  Cost: 0.28650742769241333 Validation Accuracy: 0.6779999732971191\n",
      "Epoch 41, CIFAR-10 Batch 2:  Cost: 0.34268417954444885 Validation Accuracy: 0.6854000091552734\n",
      "Epoch 41, CIFAR-10 Batch 3:  Cost: 0.21095752716064453 Validation Accuracy: 0.6697999835014343\n",
      "Epoch 41, CIFAR-10 Batch 4:  Cost: 0.21217699348926544 Validation Accuracy: 0.6801999807357788\n",
      "Epoch 41, CIFAR-10 Batch 5:  Cost: 0.2293492555618286 Validation Accuracy: 0.6850000023841858\n",
      "Epoch 42, CIFAR-10 Batch 1:  Cost: 0.2636388838291168 Validation Accuracy: 0.6809999942779541\n",
      "Epoch 42, CIFAR-10 Batch 2:  Cost: 0.3525257706642151 Validation Accuracy: 0.6886000037193298\n",
      "Epoch 42, CIFAR-10 Batch 3:  Cost: 0.24689047038555145 Validation Accuracy: 0.6754000186920166\n",
      "Epoch 42, CIFAR-10 Batch 4:  Cost: 0.17966918647289276 Validation Accuracy: 0.6873999834060669\n",
      "Epoch 42, CIFAR-10 Batch 5:  Cost: 0.28519779443740845 Validation Accuracy: 0.6787999868392944\n",
      "Epoch 43, CIFAR-10 Batch 1:  Cost: 0.283574640750885 Validation Accuracy: 0.6672000288963318\n",
      "Epoch 43, CIFAR-10 Batch 2:  Cost: 0.2895534634590149 Validation Accuracy: 0.6934000253677368\n",
      "Epoch 43, CIFAR-10 Batch 3:  Cost: 0.21120023727416992 Validation Accuracy: 0.6794000267982483\n",
      "Epoch 43, CIFAR-10 Batch 4:  Cost: 0.2117106169462204 Validation Accuracy: 0.6851999759674072\n",
      "Epoch 43, CIFAR-10 Batch 5:  Cost: 0.24707332253456116 Validation Accuracy: 0.6814000010490417\n",
      "Epoch 44, CIFAR-10 Batch 1:  Cost: 0.2728302478790283 Validation Accuracy: 0.6850000023841858\n",
      "Epoch 44, CIFAR-10 Batch 2:  Cost: 0.37339556217193604 Validation Accuracy: 0.6851999759674072\n",
      "Epoch 44, CIFAR-10 Batch 3:  Cost: 0.22536203265190125 Validation Accuracy: 0.6790000200271606\n",
      "Epoch 44, CIFAR-10 Batch 4:  Cost: 0.20391800999641418 Validation Accuracy: 0.6913999915122986\n",
      "Epoch 44, CIFAR-10 Batch 5:  Cost: 0.29178062081336975 Validation Accuracy: 0.6868000030517578\n",
      "Epoch 45, CIFAR-10 Batch 1:  Cost: 0.27889448404312134 Validation Accuracy: 0.6904000043869019\n",
      "Epoch 45, CIFAR-10 Batch 2:  Cost: 0.3525325357913971 Validation Accuracy: 0.6859999895095825\n",
      "Epoch 45, CIFAR-10 Batch 3:  Cost: 0.20725667476654053 Validation Accuracy: 0.6836000084877014\n",
      "Epoch 45, CIFAR-10 Batch 4:  Cost: 0.24395743012428284 Validation Accuracy: 0.6832000017166138\n",
      "Epoch 45, CIFAR-10 Batch 5:  Cost: 0.2118174135684967 Validation Accuracy: 0.6922000050544739\n",
      "Epoch 46, CIFAR-10 Batch 1:  Cost: 0.30407243967056274 Validation Accuracy: 0.6794000267982483\n",
      "Epoch 46, CIFAR-10 Batch 2:  Cost: 0.3376033902168274 Validation Accuracy: 0.6952000260353088\n",
      "Epoch 46, CIFAR-10 Batch 3:  Cost: 0.1844596266746521 Validation Accuracy: 0.6723999977111816\n",
      "Epoch 46, CIFAR-10 Batch 4:  Cost: 0.1980694979429245 Validation Accuracy: 0.6883999705314636\n",
      "Epoch 46, CIFAR-10 Batch 5:  Cost: 0.23265385627746582 Validation Accuracy: 0.6966000199317932\n",
      "Epoch 47, CIFAR-10 Batch 1:  Cost: 0.22122414410114288 Validation Accuracy: 0.6909999847412109\n",
      "Epoch 47, CIFAR-10 Batch 2:  Cost: 0.3525572419166565 Validation Accuracy: 0.6873999834060669\n",
      "Epoch 47, CIFAR-10 Batch 3:  Cost: 0.24190697073936462 Validation Accuracy: 0.6796000003814697\n",
      "Epoch 47, CIFAR-10 Batch 4:  Cost: 0.2026323527097702 Validation Accuracy: 0.6827999949455261\n",
      "Epoch 47, CIFAR-10 Batch 5:  Cost: 0.2918502688407898 Validation Accuracy: 0.6826000213623047\n",
      "Epoch 48, CIFAR-10 Batch 1:  Cost: 0.28148961067199707 Validation Accuracy: 0.6790000200271606\n",
      "Epoch 48, CIFAR-10 Batch 2:  Cost: 0.3273652195930481 Validation Accuracy: 0.6823999881744385\n",
      "Epoch 48, CIFAR-10 Batch 3:  Cost: 0.24912413954734802 Validation Accuracy: 0.6732000112533569\n",
      "Epoch 48, CIFAR-10 Batch 4:  Cost: 0.16943442821502686 Validation Accuracy: 0.6890000104904175\n",
      "Epoch 48, CIFAR-10 Batch 5:  Cost: 0.2643299698829651 Validation Accuracy: 0.6759999990463257\n",
      "Epoch 49, CIFAR-10 Batch 1:  Cost: 0.29194125533103943 Validation Accuracy: 0.6710000038146973\n",
      "Epoch 49, CIFAR-10 Batch 2:  Cost: 0.2701018750667572 Validation Accuracy: 0.6917999982833862\n",
      "Epoch 49, CIFAR-10 Batch 3:  Cost: 0.21724610030651093 Validation Accuracy: 0.6758000254631042\n",
      "Epoch 49, CIFAR-10 Batch 4:  Cost: 0.2162349671125412 Validation Accuracy: 0.678600013256073\n",
      "Epoch 49, CIFAR-10 Batch 5:  Cost: 0.2449592649936676 Validation Accuracy: 0.6850000023841858\n",
      "Epoch 50, CIFAR-10 Batch 1:  Cost: 0.24413056671619415 Validation Accuracy: 0.6797999739646912\n",
      "Epoch 50, CIFAR-10 Batch 2:  Cost: 0.31005245447158813 Validation Accuracy: 0.6916000247001648\n",
      "Epoch 50, CIFAR-10 Batch 3:  Cost: 0.2552385926246643 Validation Accuracy: 0.6848000288009644\n",
      "Epoch 50, CIFAR-10 Batch 4:  Cost: 0.23425507545471191 Validation Accuracy: 0.6650000214576721\n",
      "Epoch 50, CIFAR-10 Batch 5:  Cost: 0.22501108050346375 Validation Accuracy: 0.6859999895095825\n"
     ]
    }
   ],
   "source": [
    "\"\"\"\n",
    "DON'T MODIFY ANYTHING IN THIS CELL\n",
    "\"\"\"\n",
    "save_model_path = './image_classification'\n",
    "\n",
    "print('Training...')\n",
    "with tf.Session() as sess:\n",
    "    # Initializing the variables\n",
    "    sess.run(tf.global_variables_initializer())\n",
    "    \n",
    "    # Training cycle\n",
    "    for epoch in range(epochs):\n",
    "        # Loop over all batches\n",
    "        n_batches = 5\n",
    "        for batch_i in range(1, n_batches + 1):\n",
    "            for batch_features, batch_labels in helper.load_preprocess_training_batch(batch_i, batch_size):\n",
    "                train_neural_network(sess, optimizer, keep_probability, batch_features, batch_labels)\n",
    "            print('Epoch {:>2}, CIFAR-10 Batch {}:  '.format(epoch + 1, batch_i), end='')\n",
    "            print_stats(sess, batch_features, batch_labels, cost, accuracy)\n",
    "            \n",
    "    # Save Model\n",
    "    saver = tf.train.Saver()\n",
    "    save_path = saver.save(sess, save_model_path)"
   ]
  },
  {
   "cell_type": "markdown",
   "metadata": {
    "deletable": true,
    "editable": true
   },
   "source": [
    "# Checkpoint\n",
    "The model has been saved to disk.\n",
    "## Test Model\n",
    "Test your model against the test dataset.  This will be your final accuracy. You should have an accuracy greater than 50%. If you don't, keep tweaking the model architecture and parameters."
   ]
  },
  {
   "cell_type": "code",
   "execution_count": 24,
   "metadata": {
    "collapsed": false,
    "deletable": true,
    "editable": true
   },
   "outputs": [
    {
     "name": "stdout",
     "output_type": "stream",
     "text": [
      "Testing Accuracy: 0.6704905063291139\n",
      "\n"
     ]
    },
    {
     "data": {
      "image/png": "[encoded data removed]",
      "text/plain": [
       "<matplotlib.figure.Figure at 0x7f17915cef28>"
      ]
     },
     "metadata": {
      "image/png": {
       "height": 319,
       "width": 355
      }
     },
     "output_type": "display_data"
    }
   ],
   "source": [
    "\"\"\"\n",
    "DON'T MODIFY ANYTHING IN THIS CELL\n",
    "\"\"\"\n",
    "%matplotlib inline\n",
    "%config InlineBackend.figure_format = 'retina'\n",
    "\n",
    "import tensorflow as tf\n",
    "import pickle\n",
    "import helper\n",
    "import random\n",
    "\n",
    "# Set batch size if not already set\n",
    "try:\n",
    "    if batch_size:\n",
    "        pass\n",
    "except NameError:\n",
    "    batch_size = 64\n",
    "\n",
    "save_model_path = './image_classification'\n",
    "n_samples = 4\n",
    "top_n_predictions = 3\n",
    "\n",
    "def test_model():\n",
    "    \"\"\"\n",
    "    Test the saved model against the test dataset\n",
    "    \"\"\"\n",
    "\n",
    "    test_features, test_labels = pickle.load(open('preprocess_training.p', mode='rb'))\n",
    "    loaded_graph = tf.Graph()\n",
    "\n",
    "    with tf.Session(graph=loaded_graph) as sess:\n",
    "        # Load model\n",
    "        loader = tf.train.import_meta_graph(save_model_path + '.meta')\n",
    "        loader.restore(sess, save_model_path)\n",
    "\n",
    "        # Get Tensors from loaded model\n",
    "        loaded_x = loaded_graph.get_tensor_by_name('x:0')\n",
    "        loaded_y = loaded_graph.get_tensor_by_name('y:0')\n",
    "        loaded_keep_prob = loaded_graph.get_tensor_by_name('keep_prob:0')\n",
    "        loaded_logits = loaded_graph.get_tensor_by_name('logits:0')\n",
    "        loaded_acc = loaded_graph.get_tensor_by_name('accuracy:0')\n",
    "        \n",
    "        # Get accuracy in batches for memory limitations\n",
    "        test_batch_acc_total = 0\n",
    "        test_batch_count = 0\n",
    "        \n",
    "        for train_feature_batch, train_label_batch in helper.batch_features_labels(test_features, test_labels, batch_size):\n",
    "            test_batch_acc_total += sess.run(\n",
    "                loaded_acc,\n",
    "                feed_dict={loaded_x: train_feature_batch, loaded_y: train_label_batch, loaded_keep_prob: 1.0})\n",
    "            test_batch_count += 1\n",
    "\n",
    "        print('Testing Accuracy: {}\\n'.format(test_batch_acc_total/test_batch_count))\n",
    "\n",
    "        # Print Random Samples\n",
    "        random_test_features, random_test_labels = tuple(zip(*random.sample(list(zip(test_features, test_labels)), n_samples)))\n",
    "        random_test_predictions = sess.run(\n",
    "            tf.nn.top_k(tf.nn.softmax(loaded_logits), top_n_predictions),\n",
    "            feed_dict={loaded_x: random_test_features, loaded_y: random_test_labels, loaded_keep_prob: 1.0})\n",
    "        helper.display_image_predictions(random_test_features, random_test_labels, random_test_predictions)\n",
    "\n",
    "\n",
    "test_model()"
   ]
  },
  {
   "cell_type": "markdown",
   "metadata": {
    "deletable": true,
    "editable": true
   },
   "source": [
    "## Why 50-80% Accuracy?\n",
    "You might be wondering why you can't get an accuracy any higher. First things first, 50% isn't bad for a simple CNN.  Pure guessing would get you 10% accuracy. However, you might notice people are getting scores [well above 80%](http://rodrigob.github.io/are_we_there_yet/build/classification_datasets_results.html#43494641522d3130).  That's because we haven't taught you all there is to know about neural networks. We still need to cover a few more techniques.\n",
    "## Submitting This Project\n",
    "When submitting this project, make sure to run all the cells before saving the notebook.  Save the notebook file as \"dlnd_image_classification.ipynb\" and save it as a HTML file under \"File\" -> \"Download as\".  Include the \"helper.py\" and \"problem_unittests.py\" files in your submission."
   ]
  }
 ],
 "metadata": {
  "kernelspec": {
   "display_name": "Python 3",
   "language": "python",
   "name": "python3"
  },
  "language_info": {
   "codemirror_mode": {
    "name": "ipython",
    "version": 3
   },
   "file_extension": ".py",
   "mimetype": "text/x-python",
   "name": "python",
   "nbconvert_exporter": "python",
   "pygments_lexer": "ipython3",
   "version": "3.5.2"
  },
  "widgets": {
   "state": {},
   "version": "1.1.2"
  }
 },
 "nbformat": 4,
 "nbformat_minor": 0
}
